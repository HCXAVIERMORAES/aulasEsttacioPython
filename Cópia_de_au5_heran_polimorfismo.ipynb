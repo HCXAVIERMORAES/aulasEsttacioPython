{
  "nbformat": 4,
  "nbformat_minor": 0,
  "metadata": {
    "colab": {
      "name": "Cópia de au5_heran-polimorfismo.ipynb",
      "provenance": [],
      "collapsed_sections": [],
      "authorship_tag": "ABX9TyPitI9BAKFNmyBGHQPVslwP",
      "include_colab_link": true
    },
    "kernelspec": {
      "name": "python3",
      "display_name": "Python 3"
    },
    "language_info": {
      "name": "python"
    }
  },
  "cells": [
    {
      "cell_type": "markdown",
      "metadata": {
        "id": "view-in-github",
        "colab_type": "text"
      },
      "source": [
        "<a href=\"https://colab.research.google.com/github/HCXAVIERMORAES/aulasEsttacioPython/blob/main/C%C3%B3pia_de_au5_heran_polimorfismo.ipynb\" target=\"_parent\"><img src=\"https://colab.research.google.com/assets/colab-badge.svg\" alt=\"Open In Colab\"/></a>"
      ]
    },
    {
      "cell_type": "code",
      "metadata": {
        "id": "hx-JuZu6_WQb"
      },
      "source": [
        "#aula 5 herança e polimorfismo - Se criamos uma classe e não mencionarmos que a estamos herdando de outra, automaticamente, \n",
        "#ela herdará de object.\n",
        "class Contato:\n",
        "  todos_contatos = []\n",
        "  def __init__ (self,nome,email) :\n",
        "    self.nome = nome\n",
        "    self.email = email\n",
        "    Contato.todos_contatos.append (self)\n",
        "#os colchetes (“[ ]”) servem para definir um vetor. Esta é uma variável de classe, e seu valor é compartilhado com todos os objetos instanciados.\n",
        "#No construtor (Contato.todos_contatos.append (self)), existe um comando para que, toda vez que um objeto for instanciado,\n",
        "# a lista seja modificada pela adição de um contato.\n",
        "#a classe foi criada para gerenciarmos uma lista de contatos – entre eles fornecedores. Se o contato é um fornecedor, a ideia\n",
        "# é que ele possa guardar informações de pedidos de compra. Para tal defini-se o metodo pedido()\n",
        "class Fornecedor(Contato):\n",
        "  def pedido(self, pedido):\n",
        "    print(\"Pedido  {} feito por  {}\". format(pedido,self.nome))\n",
        "\n",
        "# criamos 2 objetos: c e f\n",
        "c = Contato(\"Fulano\",\"fulano@contato.com\")\n",
        "f = Fornecedor(\"Fornecedor X\",\"fornecedor@fornece.com\")\n",
        "\t\n",
        "# Vamos ver os valores inseridos\n",
        "print(c.nome,c.email,f.nome,f.email)\n",
        "def mostra_pedido(self):\n",
        "  print(\"Nome : \", self.nome,  \", pedido: \", self.pedido)\n",
        "  \n",
        "#Vamos checar os contatos armazenados na lista de contatos da classe Contato.\n",
        "#Lembre-se de que objetos são referências. Por isso, o “print” vai mostrar o valor da referência:\n",
        "c.todos_contatos\n",
        "\n",
        "#Vamos gerar um erro. O método pedido() não está definido na classe Contato. Logo, o objeto c não entende a chamada do método:\n",
        "#c.pedido(\"ped0001\")\n",
        "# Vamos agora testar o método pedido() no objeto da classe correta\n",
        "f.pedido(\"ped0001\")\n",
        "\n"
      ],
      "execution_count": null,
      "outputs": []
    },
    {
      "cell_type": "code",
      "metadata": {
        "id": "RGzvPa9EUeKC"
      },
      "source": [
        "#Na classe Fornecedor, acrescentamos um método pedido() para especializar a classe Contato.\n",
        "#Agora, queremos fazer diferente: a classe Contato permite apenas um nome e um e-mail. Mas e se precisássemos acrescentar um telefone para um contato?\n",
        "#A solucionar para o problema é acrescentar um atributo “telefone” no objeto recém-criado. Isso é uma sobrecarga (override) no método __init__.\n",
        "#Porem há um problema, pois há um código duplicado na superclasse (Contato) e na subclasse (Amigo).\n",
        "#Em outras linguagens, quando uma subclasse tiver nova instância, poderá chamar, primeiro, o construtor da superclasse e, depois, o construtor da\n",
        "# subclasse. Em Python, isso também é possível a partir do método super().\n",
        "class Amigo(Contato):\n",
        "    def __init__(self,nome,email,telefone):\n",
        "       super().__init__(nome, email)\n",
        "       self.telefone = telefone\n",
        "\n",
        "#no construtor há agora, uma chamada a um método da superclasse (__init__) passando os parâmetros obrigatórios. Em seguida, para finalizar \n",
        "#a instanciação do objeto, acrescentamos o valor ao atributo telefone, sobrecarregamos o método da superclasse no construtor."
      ],
      "execution_count": null,
      "outputs": []
    },
    {
      "cell_type": "code",
      "metadata": {
        "id": "qoQ6ns3shWAP"
      },
      "source": [
        "#polimorfismo. como fazer isso em Python. Aqui, criamos quatro classes: a superclasse ArquivoAudio e suas subclasses ArquivoMP3, ArquivoWav e ArquivoOgg.\n",
        "#ArquivoAudio\n",
        "class ArquivoAudio:\n",
        "  def __init__ (self,arquivo):\n",
        "    if not arquivo.endswith(self.ext):\n",
        "      raise Exception(\"Formato invalido!\")\n",
        "    self.arquivo = arquivo #sem referenciar o self da erro\n",
        "\n",
        "#ARQUIVOMP3\n",
        "class ArquivoMP3(ArquivoAudio):\n",
        "  ext = \"mp3\"\n",
        "  def tocar(self):\n",
        "    print(\"Tocando {} como MP3\".format(self.arquivo))\n",
        "\n",
        "#ArquivoWav\n",
        "class ArquivoWav(ArquivoAudio):\n",
        "  ext=\"wav\"\n",
        "  def tocar(self):\n",
        "    print(\"Tocando {} como WAV\".format(self.arquivo))\n",
        "\n",
        "#ArquivoOgg\n",
        "class ArquivoOgg(ArquivoAudio):\n",
        "  ext=\"ogg\"\n",
        "  def tocar(self):\n",
        "    print(\"Tocando {} como OGG\".format(self.arquivo))\n",
        "\n",
        "#testando\n",
        "ogg = ArquivoOgg(\"musica.ogg\")\n",
        "mp3 = ArquivoMP3(\"musica.mp3\")\n",
        "wav = ArquivoWav(\"musica.wav\")\n",
        "ogg.tocar()\n",
        "wav.tocar()\n",
        "mp3.tocar()\n",
        "#teste_ogg = ArquivoMP3(\"outramusica.ogg\")\n"
      ],
      "execution_count": null,
      "outputs": []
    },
    {
      "cell_type": "code",
      "metadata": {
        "id": "UdO84Bxe7bGz",
        "colab": {
          "base_uri": "https://localhost:8080/"
        },
        "outputId": "fb5364a6-6f59-462f-bdc3-a4b724fdd024"
      },
      "source": [
        "#criando uma classe para tocar arquivos de formato AAC\n",
        "class ArquivoAAC:\n",
        "  def __init__ (self,arquivo):\n",
        "    if not arquivo.endswith(\".aac\"):\n",
        "      raise Exception (\"Formato Invalido\")\n",
        "    self.arquivo = arquivo\n",
        "  def tocar(self):\n",
        "    print(\"Tocando {} como aac\".format(self.arquivo))\n",
        "aac = ArquivoAAC(\"musica.aac\")\n",
        "aac.tocar()\n",
        "\n"
      ],
      "execution_count": null,
      "outputs": [
        {
          "output_type": "stream",
          "name": "stdout",
          "text": [
            "Tocando musica.aac como aac\n"
          ]
        }
      ]
    },
    {
      "cell_type": "code",
      "metadata": {
        "id": "n1mAqHCu9ydj"
      },
      "source": [
        "#atividade\n",
        "class Pessoa:\n",
        "       def __init__(self, nome ='', idade=0):\n",
        "              self.nome = nome\n",
        "              self.idade = idade\n",
        "       def getIdade(self):\n",
        "              return self.idade\n",
        "\n",
        "class PessoaFisica(Pessoa):\n",
        "       def __init__(self, CPF, nome='', idade=0):\n",
        "              Pessoa.__init__(self, nome, idade)\n",
        "              self.CPF = CPF\n",
        "\n",
        "class PessoaJuridica(Pessoa):\n",
        "       def __init__(self, CNPJ, nome='', idade=0):\n",
        "              Pessoa.__init__(self, nome, idade)\n",
        "              self.CNPJ = CNPJ\n",
        "\n",
        "#Baseado na questão anterior, crie uma PessoaFisica e uma PessoaJuridica.\n",
        "a = Pessoa()\n",
        "Pessoa.__init__(a, 'Fulano', 45)\n",
        "\n",
        "b = PessoaFisica('111.222.333-4', nome='', idade=0)\n",
        "banco = PessoaJuridica('11.222.333/0001-44', nome='Banco X', idade=100)"
      ],
      "execution_count": null,
      "outputs": []
    }
  ]
}