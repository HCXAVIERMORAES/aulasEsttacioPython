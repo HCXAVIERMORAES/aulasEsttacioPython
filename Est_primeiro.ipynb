{
  "nbformat": 4,
  "nbformat_minor": 0,
  "metadata": {
    "colab": {
      "name": "Est_primeiro.ipynb",
      "provenance": [],
      "collapsed_sections": [],
      "authorship_tag": "ABX9TyP3MARvnXAPz9vXCkD6+plj",
      "include_colab_link": true
    },
    "kernelspec": {
      "name": "python3",
      "display_name": "Python 3"
    },
    "language_info": {
      "name": "python"
    }
  },
  "cells": [
    {
      "cell_type": "markdown",
      "metadata": {
        "id": "view-in-github",
        "colab_type": "text"
      },
      "source": [
        "<a href=\"https://colab.research.google.com/github/HCXAVIERMORAES/aulasEsttacioPython/blob/main/Est_primeiro.ipynb\" target=\"_parent\"><img src=\"https://colab.research.google.com/assets/colab-badge.svg\" alt=\"Open In Colab\"/></a>"
      ]
    },
    {
      "cell_type": "code",
      "metadata": {
        "colab": {
          "base_uri": "https://localhost:8080/"
        },
        "id": "BGZWcpm-oz-7",
        "outputId": "324e7ca5-4f49-4a5a-a40c-f95ee5d46b3a"
      },
      "source": [
        "# comentario em python \n",
        "# qualquer coisa apos # é ignorado pelo python\n",
        "print(\"Aló mundo\")\n",
        "print(\" Oi de novo\")\n",
        "#print(\"Eu gosto de digitar\") não sera executado\n",
        "print(\"É bem divertido\")# será executado\n",
        "print('Legal')\n",
        "print(\"Você conhece Joana D´Arc\")\n",
        "print('Observe \"Bem\" este exemplo!')"
      ],
      "execution_count": 3,
      "outputs": [
        {
          "output_type": "stream",
          "text": [
            "Aló mundo\n",
            " Oi de novo\n",
            "É bem divertido\n",
            "Legal\n",
            "Você conhece Joana D´Arc\n",
            "Observe \"Bem\" este exemplo!\n"
          ],
          "name": "stdout"
        }
      ]
    }
  ]
}