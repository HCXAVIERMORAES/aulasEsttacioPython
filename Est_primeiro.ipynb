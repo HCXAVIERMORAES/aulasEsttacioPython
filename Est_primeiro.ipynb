{
  "nbformat": 4,
  "nbformat_minor": 0,
  "metadata": {
    "colab": {
      "name": "Est_primeiro.ipynb",
      "provenance": [],
      "collapsed_sections": [],
      "authorship_tag": "ABX9TyMSgB06gZxLwXd7SLHFEsCL",
      "include_colab_link": true
    },
    "kernelspec": {
      "name": "python3",
      "display_name": "Python 3"
    },
    "language_info": {
      "name": "python"
    }
  },
  "cells": [
    {
      "cell_type": "markdown",
      "metadata": {
        "id": "view-in-github",
        "colab_type": "text"
      },
      "source": [
        "<a href=\"https://colab.research.google.com/github/HCXAVIERMORAES/aulasEsttacioPython/blob/main/Est_primeiro.ipynb\" target=\"_parent\"><img src=\"https://colab.research.google.com/assets/colab-badge.svg\" alt=\"Open In Colab\"/></a>"
      ]
    },
    {
      "cell_type": "code",
      "metadata": {
        "colab": {
          "base_uri": "https://localhost:8080/"
        },
        "id": "BGZWcpm-oz-7",
        "outputId": "324e7ca5-4f49-4a5a-a40c-f95ee5d46b3a"
      },
      "source": [
        "# comentario em python \n",
        "# qualquer coisa apos # é ignorado pelo python\n",
        "print(\"Aló mundo\")\n",
        "print(\" Oi de novo\")\n",
        "#print(\"Eu gosto de digitar\") não sera executado\n",
        "print(\"É bem divertido\")# será executado\n",
        "print('Legal')\n",
        "print(\"Você conhece Joana D´Arc\")\n",
        "print('Observe \"Bem\" este exemplo!')"
      ],
      "execution_count": null,
      "outputs": [
        {
          "output_type": "stream",
          "text": [
            "Aló mundo\n",
            " Oi de novo\n",
            "É bem divertido\n",
            "Legal\n",
            "Você conhece Joana D´Arc\n",
            "Observe \"Bem\" este exemplo!\n"
          ],
          "name": "stdout"
        }
      ]
    },
    {
      "cell_type": "code",
      "metadata": {
        "colab": {
          "base_uri": "https://localhost:8080/"
        },
        "id": "MOcwQfVIox9j",
        "outputId": "efd01e2e-5fdd-44e8-a192-84652e4780f0"
      },
      "source": [
        "#aula 3 estruturas de repetição. Em python não se usa '{}' nas estruturas e nem ';' ao fim do comando. Usa-se ':' ao final da\n",
        "#o comando while, que é bem parecido com as linguagens já conhecidas, inclusive com a condição entre parênteses,Os detalhes desse comando são os dois pontos (“:”), os quais iniciam a sequência \n",
        "#de comandos que serão repetidos.Na linha 5, a identação é removida, e o programa se finaliza.\n",
        "# senteçã. Exemplo\n",
        "i = 0\n",
        "while(i < 9):\n",
        "  print('Contagem ', i)\n",
        "  i = i+1\n",
        "print(\"Acabou!\")\n"
      ],
      "execution_count": 1,
      "outputs": [
        {
          "output_type": "stream",
          "text": [
            "Contagem  0\n",
            "Contagem  1\n",
            "Contagem  2\n",
            "Contagem  3\n",
            "Contagem  4\n",
            "Contagem  5\n",
            "Contagem  6\n",
            "Contagem  7\n",
            "Contagem  8\n",
            "Acabou!\n"
          ],
          "name": "stdout"
        }
      ]
    },
    {
      "cell_type": "code",
      "metadata": {
        "colab": {
          "base_uri": "https://localhost:8080/"
        },
        "id": "fPL-T60qx8Ox",
        "outputId": "2c8a3009-efe3-4f32-d321-0b874ac1eb68"
      },
      "source": [
        "#O else pode ser usado com while quando queremos que uma instrução ou um bloco de comandos seja executado em condição falsa.\n",
        "#exemplo\n",
        "i = 0\n",
        "while(i < 5):\n",
        "  print(i,\" è menor que 5\")\n",
        "  i = i+1\n",
        "else:\n",
        "  print(i,\"não é menor que 5\")"
      ],
      "execution_count": 2,
      "outputs": [
        {
          "output_type": "stream",
          "text": [
            "0  è menor que 5\n",
            "1  è menor que 5\n",
            "2  è menor que 5\n",
            "3  è menor que 5\n",
            "4  è menor que 5\n",
            "5 não é menor que 5\n"
          ],
          "name": "stdout"
        }
      ]
    },
    {
      "cell_type": "code",
      "metadata": {
        "id": "Kt0XDy4Z0df_"
      },
      "source": [
        ""
      ],
      "execution_count": null,
      "outputs": []
    },
    {
      "cell_type": "code",
      "metadata": {
        "colab": {
          "base_uri": "https://localhost:8080/"
        },
        "id": "XLjNkbxz0dhs",
        "outputId": "71c74708-0cba-4203-c95f-7a2f160b2877"
      },
      "source": [
        "#Normalmente, o comando for tem como sintaxe a criação de uma variável de controle do loop, uma condição de parada e o incremento.\n",
        "#Há essa estrutura nas linguagens Java, Javascript, C, C++, PHP etc. Em Python, é um pouco diferente: usamos esse comando para\n",
        "#percorrer uma sequência de caracteres ou iterar sobre um vetor.\n",
        "for i in range (1,11):\n",
        "  print(i,' contagem: ',i)\n",
        "print('Agora sim acabou.')\n",
        "#Neste caso, usamos uma função chamada range(), que possui um limite inferior e outro superior como intervalo de repetição. \n",
        "#Nessa função, se houver apenas um parâmetro, a repetição será executada de acordo com o valor dentro dos parênteses.\n",
        "#O comando 'for' é mais utilizado quando trabalhamos com listas e outras estruturas de dados."
      ],
      "execution_count": 3,
      "outputs": [
        {
          "output_type": "stream",
          "text": [
            "1  contagem:  1\n",
            "2  contagem:  2\n",
            "3  contagem:  3\n",
            "4  contagem:  4\n",
            "5  contagem:  5\n",
            "6  contagem:  6\n",
            "7  contagem:  7\n",
            "8  contagem:  8\n",
            "9  contagem:  9\n",
            "10  contagem:  10\n",
            "Agora sim acabou.\n"
          ],
          "name": "stdout"
        }
      ]
    },
    {
      "cell_type": "code",
      "metadata": {
        "colab": {
          "base_uri": "https://localhost:8080/"
        },
        "id": "JMjhmXgj6WqF",
        "outputId": "d3918afe-50b4-4496-a7e4-d4290419f0b1"
      },
      "source": [
        "#Estruturas de decição if(se condição verdadeira), else(caso a condição não for satisfeita) e elif(se mais de uma condição alternativa)\n",
        "# exemplo\n",
        "var1 = 100\n",
        "if var1:\n",
        "  print('1 - Valor verdadeiro')\n",
        "  print(var1)\n",
        "else:\n",
        "  print('1 - Valor falso')\n",
        "  print(var1)\n",
        "var2 = 0\n",
        "if var2:\n",
        "  print(\"2 - Valor verdadeiro\")\n",
        "  print(var2)\n",
        "else:\n",
        "  print('2 - Valor Falso')\n",
        "print(\"explicação:O valor da var1=100 (valor verdadeiro armazenado na variável)\\n\" \n",
        "\"O valor 0 armazenado na variável var2 pode ser tratado como uma\\n\" \n",
        "\"representação para false. Em Python, 0 e false têm o mesmo significado em uma condição.\")\n",
        "print('Adeus!')"
      ],
      "execution_count": 7,
      "outputs": [
        {
          "output_type": "stream",
          "text": [
            "1 - Valor verdadeiro\n",
            "100\n",
            "2 - Valor Falso\n",
            "explicação:O valor da var1=100 (valor verdadeiro armazenado na variável)\n",
            "O valor 0 armazenado na variável var2 pode ser tratado como uma\n",
            "representação para false. Em Python, 0 e false têm o mesmo significado em uma condição.\n",
            "Adeus!\n"
          ],
          "name": "stdout"
        }
      ]
    },
    {
      "cell_type": "code",
      "metadata": {
        "colab": {
          "base_uri": "https://localhost:8080/"
        },
        "id": "ibrHeagz_93k",
        "outputId": "3a98704d-4f3f-4d99-d93e-09d4f1ccf8a4"
      },
      "source": [
        "#O comando if é usado para executar uma ação, caso uma condição seja verdadeira, e o comando else, quando a condição não for satisfeita.\n",
        "#Se existir mais de uma condição alternativa, poderemos usar o comando elif para analisá-las – antes de aplicar o else.\n",
        "#Exemplo\n",
        "idade = int(input(\"Digite sua idade: \"))\n",
        "if idade >=10 and idade < 20 :\n",
        "  print('Você é adolescente')\n",
        "elif idade >= 20 and idade <= 30 :\n",
        "  print('Você é jovem')\n",
        "elif idade >= 30 and idade <= 100 :\n",
        "  print('Você é adulto')\n",
        "else:\n",
        "  print('Valor não encontrado')   \n",
        "   "
      ],
      "execution_count": 11,
      "outputs": [
        {
          "output_type": "stream",
          "text": [
            "Digite sua idade: 15\n",
            "Você é adolescente\n"
          ],
          "name": "stdout"
        }
      ]
    },
    {
      "cell_type": "code",
      "metadata": {
        "colab": {
          "base_uri": "https://localhost:8080/"
        },
        "id": "Jno_Wl5-f_WA",
        "outputId": "f747ff51-c93e-416b-f46c-f2ee019f34d2"
      },
      "source": [
        "#colocando uma repetição para que vários usuários pudessem testar seu IMC.\n",
        "repetir = 's'\n",
        "while(repetir == 's'):\n",
        "#calculo do imc usando condicionais\n",
        "  print('Calculo de Índice de Massa Corporia - IMC')\n",
        "  peso = input('Digite seu peso em KG: ' )\n",
        "  altura = input('Digite sua altura em metros: ')\n",
        "  imc = float(peso)/(float(altura) * float(altura))\n",
        "  if imc <=17:\n",
        "    print('Muito abaixo do peso')\n",
        "  elif imc > 17 and imc < 18.5 :\n",
        "    print('Abaixo do peso')\n",
        "  elif imc > 18.5 and imc < 25:\n",
        "    print('Peso normal')\n",
        "  elif imc > 25 and imc < 30:\n",
        "    print('Acima do peso')\n",
        "  elif imc > 30 and imc < 35:\n",
        "    print('Obesidade I')\n",
        "  elif imc > 35 and imc < 40:\n",
        "    print('Obesidade II (severa)')\n",
        "  else :\n",
        "    print('Obesidade III (mórbida)')\n",
        "  repetir = input('Deseja repetir o calculo? [s/n] ')\n",
        "print('Obrigado! Acabou')"
      ],
      "execution_count": 4,
      "outputs": [
        {
          "output_type": "stream",
          "text": [
            "Calculo de Índice de Massa Corporia - IMC\n",
            "Digite seu peso em KG: 50\n",
            "Digite sua altura em metros: 1.50\n",
            "Peso normal\n",
            "Deseja repetir o calculo? [s/n] s\n",
            "Calculo de Índice de Massa Corporia - IMC\n",
            "Digite seu peso em KG: 99\n",
            "Digite sua altura em metros: 1.88\n",
            "Acima do peso\n",
            "Deseja repetir o calculo? [s/n] n\n",
            "Obrigado! Acabou\n"
          ],
          "name": "stdout"
        }
      ]
    },
    {
      "cell_type": "markdown",
      "metadata": {
        "id": "DNfmMK6KpDS8"
      },
      "source": [
        "# Nova seção"
      ]
    }
  ]
}