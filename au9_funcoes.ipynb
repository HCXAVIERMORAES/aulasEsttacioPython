{
  "nbformat": 4,
  "nbformat_minor": 0,
  "metadata": {
    "colab": {
      "name": "au9_funcoes.ipynb",
      "provenance": [],
      "collapsed_sections": [],
      "authorship_tag": "ABX9TyOGh+uEeLVlkleFpeIGSSLj",
      "include_colab_link": true
    },
    "kernelspec": {
      "name": "python3",
      "display_name": "Python 3"
    },
    "language_info": {
      "name": "python"
    }
  },
  "cells": [
    {
      "cell_type": "markdown",
      "metadata": {
        "id": "view-in-github",
        "colab_type": "text"
      },
      "source": [
        "<a href=\"https://colab.research.google.com/github/HCXAVIERMORAES/aulasEsttacioPython/blob/main/au9_funcoes.ipynb\" target=\"_parent\"><img src=\"https://colab.research.google.com/assets/colab-badge.svg\" alt=\"Open In Colab\"/></a>"
      ]
    },
    {
      "cell_type": "code",
      "metadata": {
        "id": "jRLHiLQ91dnr"
      },
      "source": [
        "#a função é criada com a palavra reservada 'def'. Espera-se que toda função retorne algum valor. Para isso, usamos a palavra-chave 'return'. \n",
        "#O return não é obrigatório. um valor de retorno é esperado, mas, nem sempre, é obrigatório. Em algumas linguagens, quando isso ocorre, \n",
        "#a função é chamada de procedure (procedimento).  Exemplos\n",
        "#com return\n",
        "def temp_F(temp_C):\n",
        "     valor = (temp_C*9/5)+32\n",
        "     return valor\n",
        "\n",
        "#sem return\n",
        "def temp_F(temp_C=25):\n",
        "   valor = (temp_C*9/5)+32\n",
        "   print(\"°C=\",temp_C,\" °F=\",valor)\n",
        "\n",
        "temp_F()  #chamando a função "
      ],
      "execution_count": null,
      "outputs": []
    },
    {
      "cell_type": "code",
      "metadata": {
        "id": "KX-giiTK7k9A"
      },
      "source": [
        "#incrementando para interação com o usuário\n",
        "def temp_F(temp_C):\n",
        "     valor = (temp_C*9/5)+32\n",
        "     return valor\n",
        "\n",
        "temp = input(\"Digite a temperatura em graus Celsius: \")\n",
        "temp = float(temp)\n",
        "temp_F = print(\"O valor da temperatura em graus Fahrenheit é:\", temp_F(temp))"
      ],
      "execution_count": null,
      "outputs": []
    },
    {
      "cell_type": "code",
      "metadata": {
        "id": "2nMdDoSW85Ew"
      },
      "source": [
        "#Também é possível retornar mais de um valor (= objeto): podemos implementar funções que não retornem apenas um valor de tipo primitivo, \n",
        "#mas também arrays, listas, objetos etc. No exemplo exemplo simples, em que modificamos a função de conversão de temperatura e acrescentamos a conversão\n",
        "#para a escala Kelvin ou absoluta:\n",
        "def temperatura(C):\n",
        "      F = (C*9/5)+32\n",
        "      K = C + 273\n",
        "      return(F,K)\n",
        "\n",
        "(tempF,tempK) = temperatura(25)\n",
        "print(\"°C=25, °F=\",tempF)\n",
        "print(\"°C=25, K=\",tempK)"
      ],
      "execution_count": null,
      "outputs": []
    },
    {
      "cell_type": "code",
      "metadata": {
        "id": "LEcLly0L_zUo"
      },
      "source": [
        "#Parâmetros - No exemplo anterior, vimos que a função temp_F possui um argumento apenas. Em Pyhon, é possível estabelecer um valor padrão para o argumento.\n",
        "def temp_F(temp_C=25):\n",
        "      valor = (temp_C*9/5)+32\n",
        "      return valor\n",
        "\n",
        "print(\"Chamando a função com valor padrão. °C=25, °F=\",temp_F())"
      ],
      "execution_count": null,
      "outputs": []
    },
    {
      "cell_type": "code",
      "metadata": {
        "id": "ZJyA3asYEDXf"
      },
      "source": [
        "#Escopo e tempo de vida de variáveis - O escopo de uma variável é a parte de um programa na qual a variável é reconhecida. \n",
        "#Os parâmetros e as variáveis definidas dentro de uma função não são visíveis fora dela. Isso é o que chamamos de 'escopo local'.\n",
        "#tempo de vida de uma variável é o período no qual a variável existe na memória. Na função compriende do perioido que é chamada ate o fim de sua execução\n",
        "#Exemplo 1\n",
        "def funcao():\n",
        "   print(x)\n",
        "\n",
        "x = \"Teste\"\n",
        "funcao()\t#A variável x foi definida fora da função e terá o mesmo valor dentro dela. Logo, seu valor não será modificado.\n",
        "\n",
        "#exemplo 2 \n",
        "def funcao():\n",
        "   x = \"Olá mundo!\"\n",
        "   print(x)\n",
        "\n",
        "x = \"Teste\"\n",
        "funcao()\n",
        "print(x)\t\n",
        "#Há uma variável fora e dentro da função com o mesmo nome (x). Nesse caso, embora os nomes sejam iguais, o “x” de dentro da função é outra variável,\n",
        "# e seu escopo reside na função. Já o “x” de fora tem o escopo fora da função. Trata-se de variável diferente, com outro endereço de memória\n",
        "#e apenas o mesmo nome da variável interna da função definida."
      ],
      "execution_count": null,
      "outputs": []
    },
    {
      "cell_type": "code",
      "metadata": {
        "id": "lZGzo8RZPbKQ"
      },
      "source": [
        "#Exemplo 3 - \n",
        "# Código          \t   linha          O que será impresso\n",
        "def funcao():          #  1:          ;Olá mundo!\n",
        "   print(x)            #  2:          ; Erro!\n",
        "   x = \"Olá mundo!\"    #  3:          ;UnboundLocalError: local variable 'x' referenced before assignment\n",
        "   print(x)\n",
        "\n",
        "x = \"Teste\"\n",
        "funcao()     #chama a função       \n",
        "print(x)\t   #mostrar na tela a\n",
        "\n",
        "#Encontramos um problema: a variável x interna da função foi definida após o print da linha 2.\n",
        "#Entretanto, na função (linha 3), outra variável x foi criada. A linguagem Python processa isso, verificando que, no interior da função, \n",
        "#há uma variável x dentro do escopo. Mas, antes, apareceu certo comando com uma variável x diferente. Disso resulta o erro."
      ],
      "execution_count": null,
      "outputs": []
    },
    {
      "cell_type": "code",
      "metadata": {
        "id": "1d0G--H_RHES"
      },
      "source": [
        "#Exemplo 4\n",
        "# Código          \t   linha          O que será impresso\n",
        "def funcao():\n",
        "   global x            #  2:          ;Teste\n",
        "   print(x)            #  3:          ; Olá mundo!\n",
        "   x = \"Olá mundo!\"    #  4:          ; Olá mundo!\n",
        "   print(x)            #5:\n",
        "                       #6:\n",
        "x = \"Teste\"            #7:\n",
        "funcao()               #8:             ;chama a função       \n",
        "print(x)\t             #9:             ;mostrar na tela \n",
        "\n",
        "#Corrigimos o erro, acrescentando a palavra-chave global na linha 2. Isso indica que o x referido na linha 3 vem de fora da função e é uma variável global.\n",
        "#Na linha 4, a variável x tem o valor modificado, o qual é levado para fora da função. É possível perceber isso na linha 9: agora, seu valor é “Olá mundo!”,\n",
        "# e, antes da chamada, era “Teste”. "
      ],
      "execution_count": null,
      "outputs": []
    },
    {
      "cell_type": "code",
      "metadata": {
        "id": "iVtlmPIbUjZS"
      },
      "source": [
        " #Um programa, várias funções - Criaremos uma pequena calculadora. O programa conterá um menu no qual o usuário escolherá a\n",
        " # operação que deseja fazer e repetirá até escolher sair do programa.Definiremos algumas funções que serão chamadas ao longo do programa.\n",
        "\n",
        "import os\n",
        "\n",
        "def menu():\n",
        "   escolha = 0\n",
        "   while (escolha!=5):\n",
        "     print(\"1- Adição\")\n",
        "     print(\"2- Subtração\")\n",
        "     print(\"3- Multiplicação\")\n",
        "     print(\"4- Divisão\")\n",
        "     print(\"5- Sair\")\n",
        "     escolha = int(input(\"Faça sua escolha:\"))\n",
        "\n",
        "     if escolha == 1:\n",
        "       (op1,op2)=entrada_dados()\n",
        "       resultado = adicao(op1,op2)\n",
        "     elif escolha == 2:\n",
        "       (op1,op2)=entrada_dados()\n",
        "       resultado = subtracao(op1,op2)\n",
        "     elif escolha == 3:\n",
        "       (op1,op2)=entrada_dados()\n",
        "     elif escolha == 4:\n",
        "       (op1,op2)=entrada_dados()\n",
        "       resultado = divisao(op1,op2)\n",
        "     elif escolha==5:\n",
        "       cai_fora()\n",
        "\n",
        "     print(\"O resultado é: \",resultado)\n",
        "\n",
        "def entrada_dados():\n",
        "  operando1 = float(input(\"Operando 1: \"))\n",
        "  operando2 = float(input(\"Operando 2: \"))\n",
        "  return (operando1,operando2)\n",
        "\n",
        "def adicao(op1,op2):\n",
        "  os.system('cls')\n",
        "  print(\"*** ADIÇÃO ***\")\n",
        "  resultado = op1+op2\n",
        "  return resultado\n",
        "\n",
        "def subtracao(op1,op2):\n",
        "  os.system('cls')\n",
        "  print(\"*** SUBTRAÇÃO ***\")\n",
        "  resultado = op1-op2\n",
        "  return resultado\n",
        "\n",
        "def multiplicacao(op1,op2):\n",
        "  os.system('cls')\n",
        "  print(\"*** MULTIPLICAÇÃO ***\")\n",
        "  resultado = op1*op2\n",
        "  return resultado\n",
        "\n",
        "def divisao(op1,op2):\n",
        "  os.system('cls')\n",
        "  print(\"*** DIVISÃO ***\")\n",
        "  resultado = op1/op2\n",
        "  return resultado\n",
        "\n",
        "def cai_fora():\n",
        "  print(\"\\n Tchau! \\n\")\n",
        "  quit()\n",
        "\n",
        "menu()"
      ],
      "execution_count": null,
      "outputs": []
    },
    {
      "cell_type": "code",
      "metadata": {
        "id": "hpmUVG8TlEIx"
      },
      "source": [
        "#Atividade\n",
        "# 1- Escreva o que será impresso pelos programas a seguir:\n",
        "x = 1\n",
        "def funcao():\n",
        "    global x\n",
        "    print('x = ',x)\n",
        "    x = 2\n",
        "    print('x global =',x)\n",
        "\n",
        "funcao()\n",
        "print('Valor de x=',x)\n",
        "\n",
        "#2-\n",
        "i = 1\n",
        "def funcao():\n",
        "    global i\n",
        "    for j in (1, 2, 3):\n",
        "      i += 1\n",
        "     \n",
        "funcao()\n",
        "print(i)\n",
        "\n",
        "#3. Analise o programa a seguir:\n",
        "def maior(a, b):\n",
        "     if a > b:\n",
        "          print(a, 'é o maior')\n",
        "     elif a == b:\n",
        "          print(a, 'é igual a', b)\n",
        "     else:\n",
        "          print(b, 'é o maior')\n",
        "maior(3, 4)\n",
        "\n",
        "#4. Veja um exemplo de funções recursivas em Python: uma função que chama ela mesma\n",
        "def Foo(x):\n",
        "     if (x==1):\n",
        "       return 1\n",
        "     else:\n",
        "       return x+Foo(x-1)\n",
        "print(Foo(4))\n",
        "\n",
        "#Qual será sua saída? (4+(4-1)+(3-1)+(2-1))"
      ],
      "execution_count": null,
      "outputs": []
    }
  ]
}