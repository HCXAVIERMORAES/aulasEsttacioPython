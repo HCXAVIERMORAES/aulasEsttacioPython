{
  "nbformat": 4,
  "nbformat_minor": 0,
  "metadata": {
    "colab": {
      "name": "aula6_lista-fila-pilha.ipynb",
      "provenance": [],
      "collapsed_sections": [],
      "authorship_tag": "ABX9TyOOLulV1dBXLg7ptqoAOBMa",
      "include_colab_link": true
    },
    "kernelspec": {
      "name": "python3",
      "display_name": "Python 3"
    },
    "language_info": {
      "name": "python"
    }
  },
  "cells": [
    {
      "cell_type": "markdown",
      "metadata": {
        "id": "view-in-github",
        "colab_type": "text"
      },
      "source": [
        "<a href=\"https://colab.research.google.com/github/HCXAVIERMORAES/aulasEsttacioPython/blob/main/aula6_lista_fila_pilha.ipynb\" target=\"_parent\"><img src=\"https://colab.research.google.com/assets/colab-badge.svg\" alt=\"Open In Colab\"/></a>"
      ]
    },
    {
      "cell_type": "code",
      "metadata": {
        "id": "eq4honVGjOCS"
      },
      "source": [
        "#criando uma lista vazia chamada lista. Para ver seu conteúdo, o comando é igual à verificação com variáveis\n",
        "lista =[]\n",
        "lista\n",
        "'mundo' in lista  #retorna flase"
      ],
      "execution_count": null,
      "outputs": []
    },
    {
      "cell_type": "code",
      "metadata": {
        "id": "9wc85wG5lz0J"
      },
      "source": [
        "#Agora, vamos elaborar uma lista mais complexa, com elementos já inseridos no momento da criação misturando strings e inteiros:\n",
        "lista2 =['Oá','mundo',123]\n",
        "lista2\n",
        "#Para acessar determinado elemento da lista, usamos a mesma sintaxe do acesso a elemento em um vetor. Alista começa com indice 0\n",
        "lista2[0]\n",
        "#lista2[3]  #nao ha posição 3\n",
        "#metodos para manipular listas. 1ª o in para verificar se existe um elemento na lista\n",
        "'mundo' in lista2"
      ],
      "execution_count": null,
      "outputs": []
    },
    {
      "cell_type": "code",
      "metadata": {
        "id": "0e1DLC65pnXI"
      },
      "source": [
        "#Em seguida, em uma lista numérica, determinar o mínimo, o máximo e a soma dos números:\n",
        "lista_num =[10,50,40,30,50,90,70]\n",
        "min(lista_num)    #minimo (menor) numero da lista\n",
        "#max(lista_num)    #maximo (maior) numero da lista \n",
        "#sum(lista_num)   #somatoria da lista"
      ],
      "execution_count": null,
      "outputs": []
    },
    {
      "cell_type": "code",
      "metadata": {
        "id": "T7sscC7-rzVI"
      },
      "source": [
        "#metodos para lista\n",
        "#inserção ao final da lista, método append(). Veja:\n",
        "estados = ['SP','RJ','ES']      # ← lista de estados da região sudeste\n",
        "estados\n",
        "estados.append('MG')       #← inserindo ‘MG’ no final da lista\n",
        "estados\n",
        "#removendo elemento usamos o método pop(), que pode não receber parâmetros. Quando os recebe, elimina o elemento da posição referenciada. \n",
        "estados.pop(0)  #remove a 1ª posição ou seja 'SP'\n",
        "estados\n",
        "estados.pop()  #sem parametros remmove o ultimo elemento\n",
        "estados \n",
        "#Quando não conhecemos a posição do elemento que queremos eliminar (exemplo, ‘ES’) usa-se o método remove():\n",
        "estados.remove('RJ') #remove 'RJ' da lista em qualquer posição\n",
        "estados\n",
        "estados.append('RJ')\n",
        "estados\n",
        "#Para inserir um estado em posição específica da lista (exemplo,'SP' na posição 1), usa-se o método insert():\n",
        "estados.insert(1,'SP')  #passa-se a posição e o que se deseja inserir\n",
        "estados"
      ],
      "execution_count": null,
      "outputs": []
    },
    {
      "cell_type": "code",
      "metadata": {
        "colab": {
          "base_uri": "https://localhost:8080/"
        },
        "collapsed": true,
        "id": "rgCQvblqxamO",
        "outputId": "85e7a59a-3074-4ae7-fbb6-60b1e9ced49d"
      },
      "source": [
        "#Para classificar os elementos de uma lista, usamos o método sort():\n",
        "estados =['SP','RJ','ES','MG']\n",
        "estados.sort() #ordena em ordem crescente\n",
        "estados  #exibe o resultado\n",
        "#para embaralhar a lista aleatoriamente importa-se a  bilblioteca random e usa-se o método suffle()\n",
        "import random\n",
        "random.shuffle(estados)  #passa-se como paramentro o que se deseja embaralhar\n",
        "estados \n",
        "\n",
        "#para classificar em ordem decrescente usa-se o método reverse()\n",
        "estados.reverse()\n",
        "estados\n",
        "\n",
        "#O método count() conta quantas ocorrências determinado elemento possui dentro de uma lista.\n",
        "#inserindo MG para gerar mais de uma vez\n",
        "estados.append('MG')\n",
        "estados.append('MG')\n",
        "estados\n",
        "#usando o count\n",
        "estados.count('MG')  #passa-se o que se deseja contar como parâmetro\n",
        "estados.count('RJ')\n",
        "\n",
        "#Retorno do índice da 1ª ocorrencia do elemento\n",
        "estados\n",
        "estados.index('MG')\n",
        "#estados\n",
        "estados.pop()\n",
        "estados.pop()\n",
        "estados\n",
        "\n",
        "#Uma operação bastante útil é feita quando desejamos inserir uma lista em outra, como a lista dos estados da região Sul \n",
        "#e que precisamos aumentar a lista de estados original. Para isso, fazemos:\n",
        "sul=['PR','SC','RS'] #criada a lista dos estados do sul\n",
        "sul\n",
        "estados.extend(sul)  #adiciona o sul nalista original\n",
        "estados"
      ],
      "execution_count": null,
      "outputs": [
        {
          "output_type": "execute_result",
          "data": {
            "text/plain": [
              "['MG', 'RJ', 'ES', 'SP', 'PR', 'SC', 'RS']"
            ]
          },
          "metadata": {},
          "execution_count": 53
        }
      ]
    },
    {
      "cell_type": "code",
      "metadata": {
        "id": "GyZdBIG8zFwA"
      },
      "source": [
        "#pilha é  LIFO (Last In, First Out) = O último a entrar é o primeiro a sair. Push = processo de empilhar ou inserir elementos na estrutura;\n",
        "#Pop = processo de remover ou desempilhar elementos da estrutura.\n",
        "#estrutura de pilha, podemos usar uma lista para usar como tal inserindo no inicio(insert()) e removendo no inicio(poop())\n",
        "pilha = []\n",
        "pilha\n",
        "pilha.insert(0,1)       # início da sequência de push (empilhar)\n",
        "pilha\n",
        "pilha.insert(0,2)\n",
        "pilha\n",
        "pilha.insert(0,3)\n",
        "pilha\n",
        "pilha.insert(0,4)\n",
        "pilha\n",
        "pilha.insert(0,5)\n",
        "pilha                    # veja a pilha como ficou após a sequência\n",
        "pilha.pop(0)             # ← vamos começar a desempilhar\n",
        "pilha\n",
        "pilha.pop(0)\n",
        "pilha\n",
        "pilha.pop(0)\n",
        "pilha\n",
        "pilha.pop(0)\n",
        "pilha\n",
        "pilha.pop(0)       # retorna 1\n",
        "pilha             # ← final da lista\n",
        "#A cada insert(0,x), fomos inserindo ou empilhando elementos na lista. É necessário manter essa regra.\n",
        "#Para que a regra não seja desobedecida, criar uma classe pilha é uma solução mais útil. Toda pilha criada depois será uma instância dessa classe.\n",
        "#Além disso, o funcionamento interno das inserções e remoções ficará invisível para o usuário (orientação a objetos: encapsulamento).\n",
        "#Pode-se aplicar outros métodos úteis na classe como, por exemplo, retornar o valor que está no topo da pilha e o número de elementos,\n",
        "#Tudo isso seria implementado dentro da classe.\n",
        "#class Pilha(object):\n",
        "#             def __init__(self):\n",
        "#                   self.dados = []\n",
        "#\n",
        "#             def push(self, elemento):\n",
        "#                     __________________________________\n",
        "#\n",
        "#             def pop(self):\n",
        "#                     __________________________________\n"
      ],
      "execution_count": null,
      "outputs": []
    },
    {
      "cell_type": "code",
      "metadata": {
        "id": "4XyVZitr6Hks"
      },
      "source": [
        "#fila (Queue) é FIFO(FIFO (First In, First Out) = O primeiro a entrar é o primeiro a sair).Enqueue = enfileirar;\n",
        "#Dequeue = desenfileirar.Ambos são operações de inserção.\n",
        "#Também podemos implementar a fila usando listas por meio dos métodos append() e pop(). \n",
        "fila = []                # criação da fila\n",
        "fila.append(1)           # enqueue do elemento 1\n",
        "fila\n",
        "fila.append(2)       #enqueue: elemento 2\n",
        "fila.append(3)\n",
        "fila.append(4)\n",
        "fila.append(5)\n",
        "fila.append(6)\n",
        "fila                #fila completa [1, 2, 3, 4, 5, 6]\n",
        "fila.pop(0)        # iniciando o dequeue, sempre pelo início\n",
        "fila\n",
        "fila.pop(0)\n",
        "fila\n",
        "fila.pop(0)\n",
        "fila\n",
        "fila.pop(0)\n",
        "fila\n",
        "fila.pop(0)\n",
        "fila\n",
        "fila.pop(0)\n",
        "fila             # fila vazia, todos atendidos\n",
        "#Assim como na pilha, é recomendável implementar uma classe para a correta manipulação dessa estrutura de dados. È preciso controlar quando a fila \n",
        "#ou a pilha estão vazias e impedir que o usuário tente retirar elementos nessa condição.\n",
        "#class Fila(object):\n",
        "#              def __init__(self):\n",
        "#                    self.dados = []\n",
        "#       def enqueue(self, elemento):\n",
        "                     #aqui vai a implementação do enqueue\n",
        "#              def dequeue(self):\n",
        "                     #aqui vai a implementação do dequeue"
      ],
      "execution_count": null,
      "outputs": []
    }
  ]
}