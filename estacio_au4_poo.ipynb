{
  "nbformat": 4,
  "nbformat_minor": 0,
  "metadata": {
    "colab": {
      "name": "estacio_au4_poo.ipynb",
      "provenance": [],
      "collapsed_sections": [],
      "authorship_tag": "ABX9TyMLUmsO3jYNNqrRreDFZieV",
      "include_colab_link": true
    },
    "kernelspec": {
      "name": "python3",
      "display_name": "Python 3"
    },
    "language_info": {
      "name": "python"
    }
  },
  "cells": [
    {
      "cell_type": "markdown",
      "metadata": {
        "id": "view-in-github",
        "colab_type": "text"
      },
      "source": [
        "<a href=\"https://colab.research.google.com/github/HCXAVIERMORAES/aulasEsttacioPython/blob/main/estacio_au4_poo.ipynb\" target=\"_parent\"><img src=\"https://colab.research.google.com/assets/colab-badge.svg\" alt=\"Open In Colab\"/></a>"
      ]
    },
    {
      "cell_type": "code",
      "metadata": {
        "id": "yOQow6zj2p5k"
      },
      "source": [
        "#EStacio aula 4 orientação a objetos. \n",
        "# criação de uma funçãoFunções\n",
        "#exemplo\n",
        "def printme(str):\n",
        "  print(\"Esta funçao vai imprimir: \")\n",
        "  print(str)\n",
        "  return\n",
        "\n",
        "#chamando a função\n",
        "printme(\"MagaretThatcheris110%SEXY\")\n",
        "\n"
      ],
      "execution_count": null,
      "outputs": []
    },
    {
      "cell_type": "code",
      "metadata": {
        "id": "LA54epJL--MV"
      },
      "source": [
        "#criando classe sintaxe class nome_da_classe :\n",
        "#                           'String de documentação da classe(opcional)\n",
        "#                            corpo_da_classe\n",
        "class Empregado:\n",
        "  'Classe base para empregados'\n",
        "  contador = 0\n",
        "\n",
        "  def __init__ (self,nome,salario):     #construtor da classe\n",
        "    self.nome = nome\n",
        "    self.salario = salario\n",
        "    Empregado.contador += 1\n",
        "  \n",
        "  def mostra_contador (self):\n",
        "    print('Número de empregados: %d'% Empregado.contador)\n",
        "\n",
        "  def mostra_empregado (self):\n",
        "    print('Nome: ', self.nome, ', salario: ',self.salario)\n",
        "\n",
        "#instanciando objetos. não precisamos declarar o objeto antes e, depois, instanciá-lo com “new” ou outro comando, como em outras linguagens. \n",
        "#Em Python, realizamos o processo de forma direta.\n",
        "emp1 = Empregado(\"Fabiano\",1000)\n",
        "emp2 = Empregado(\"João Neves\",1500)\n",
        "\n",
        "#Como foi criado um construtor para a classe, ele é invocado quando cria-se objetos da classe referenciada. Não foi passado o self como parâmetro, e sim o\n",
        "# nome e o salário na mesma ordem em que são definidos na assinatura do método construtor.\n",
        "\n",
        "#Para mostrar as intancias (empregados criados) temos\n",
        "emp1.mostra_empregado()\n",
        "emp2.mostra_empregado()\n",
        "\n",
        "#pode-se incluir, remover ou modificar os atributos de classe e de objetos a qualquer ora\n",
        "emp1.idade = 44\n",
        "\n",
        "#cria-se uma nova variavel de instancia na classe Empregado\n",
        "print ( 'Nome: ',emp1.nome,' - Salário: ',emp1.salario,' - Idade: ',emp1.idade)\n",
        "\n",
        "#para apagar o atributo idade \n",
        "del emp1.idade\n",
        "print ( 'Nome: ',emp1.nome,' - Salário: ',emp1.salario)\n",
        "\n"
      ],
      "execution_count": null,
      "outputs": []
    }
  ]
}